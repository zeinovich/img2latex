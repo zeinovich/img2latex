{
 "cells": [
  {
   "cell_type": "code",
   "execution_count": 1,
   "metadata": {},
   "outputs": [],
   "source": [
    "import os\n",
    "import pandas as pd\n",
    "import numpy as np\n",
    "import matplotlib.pyplot as plt\n",
    "import re"
   ]
  },
  {
   "cell_type": "code",
   "execution_count": 2,
   "metadata": {},
   "outputs": [
    {
     "data": {
      "text/html": [
       "<div>\n",
       "<style scoped>\n",
       "    .dataframe tbody tr th:only-of-type {\n",
       "        vertical-align: middle;\n",
       "    }\n",
       "\n",
       "    .dataframe tbody tr th {\n",
       "        vertical-align: top;\n",
       "    }\n",
       "\n",
       "    .dataframe thead th {\n",
       "        text-align: right;\n",
       "    }\n",
       "</style>\n",
       "<table border=\"1\" class=\"dataframe\">\n",
       "  <thead>\n",
       "    <tr style=\"text-align: right;\">\n",
       "      <th></th>\n",
       "      <th>formulas</th>\n",
       "    </tr>\n",
       "  </thead>\n",
       "  <tbody>\n",
       "    <tr>\n",
       "      <th>0</th>\n",
       "      <td>\\int _ { - \\epsilon } ^ { \\infty } d l \\: \\mat...</td>\n",
       "    </tr>\n",
       "    <tr>\n",
       "      <th>1</th>\n",
       "      <td>d s ^ { 2 } = ( 1 - { \\frac { q c o s \\theta }...</td>\n",
       "    </tr>\n",
       "    <tr>\n",
       "      <th>2</th>\n",
       "      <td>\\widetilde \\gamma _ { \\mathrm { h o p f } } \\s...</td>\n",
       "    </tr>\n",
       "    <tr>\n",
       "      <th>3</th>\n",
       "      <td>( { \\cal L } _ { a } g ) _ { i j } = 0 , \\ \\ \\...</td>\n",
       "    </tr>\n",
       "    <tr>\n",
       "      <th>4</th>\n",
       "      <td>S _ { s t a t } = 2 \\pi \\sqrt { N _ { 5 } ^ { ...</td>\n",
       "    </tr>\n",
       "  </tbody>\n",
       "</table>\n",
       "</div>"
      ],
      "text/plain": [
       "                                            formulas\n",
       "0  \\int _ { - \\epsilon } ^ { \\infty } d l \\: \\mat...\n",
       "1  d s ^ { 2 } = ( 1 - { \\frac { q c o s \\theta }...\n",
       "2  \\widetilde \\gamma _ { \\mathrm { h o p f } } \\s...\n",
       "3  ( { \\cal L } _ { a } g ) _ { i j } = 0 , \\ \\ \\...\n",
       "4  S _ { s t a t } = 2 \\pi \\sqrt { N _ { 5 } ^ { ..."
      ]
     },
     "execution_count": 2,
     "metadata": {},
     "output_type": "execute_result"
    }
   ],
   "source": [
    "formulas = pd.read_csv(\"../data/raw/im2latex_formulas.norm.csv\")\n",
    "formulas.head()"
   ]
  },
  {
   "cell_type": "code",
   "execution_count": 4,
   "metadata": {},
   "outputs": [],
   "source": [
    "formulas.sample(100).to_csv(\"../data/interim/sample.test.csv\", index=False)"
   ]
  },
  {
   "cell_type": "code",
   "execution_count": 3,
   "metadata": {},
   "outputs": [
    {
     "data": {
      "text/plain": [
       "1"
      ]
     },
     "execution_count": 3,
     "metadata": {},
     "output_type": "execute_result"
    }
   ],
   "source": [
    "formulas.shape[1]"
   ]
  },
  {
   "cell_type": "code",
   "execution_count": 4,
   "metadata": {},
   "outputs": [],
   "source": [
    "sample = formulas.iloc[8332]"
   ]
  },
  {
   "cell_type": "code",
   "execution_count": 5,
   "metadata": {},
   "outputs": [
    {
     "name": "stdout",
     "output_type": "stream",
     "text": [
      "\\langle f _ { \\lambda } f _ { \\lambda ^ { \\prime } } \\rangle \\propto \\int d ^ { 2 } x \\sqrt { - g } e ^ { - 2 \\phi } f _ { \\lambda } f _ { \\lambda ^ { \\prime } } = \\delta _ { \\lambda , \\lambda ^ { \\prime } } \\quad .\n"
     ]
    }
   ],
   "source": [
    "print(sample.formulas)\n",
    "# print(sample.image)"
   ]
  },
  {
   "cell_type": "code",
   "execution_count": 6,
   "metadata": {},
   "outputs": [
    {
     "data": {
      "text/latex": [
       "$\\displaystyle \\langle f _ { \\lambda } f _ { \\lambda ^ { \\prime } } \\rangle \\propto \\int d ^ { 2 } x \\sqrt { - g } e ^ { - 2 \\phi } f _ { \\lambda } f _ { \\lambda ^ { \\prime } } = \\delta _ { \\lambda , \\lambda ^ { \\prime } } \\quad .$"
      ],
      "text/plain": [
       "<IPython.core.display.Math object>"
      ]
     },
     "metadata": {},
     "output_type": "display_data"
    },
    {
     "data": {
      "text/latex": [
       "$\\displaystyle g \\approx 3 - \\sqrt 3 - 0 . 9 1 7 7 f _ { 0 } ^ { 2 } \\; .$"
      ],
      "text/plain": [
       "<IPython.core.display.Math object>"
      ]
     },
     "metadata": {},
     "output_type": "display_data"
    },
    {
     "data": {
      "text/latex": [
       "$\\displaystyle g \\approx 3 - \\sqrt 3 - 0 . 9 1 7 7 f _ { 0 } ^ { 2 } \\; .$"
      ],
      "text/plain": [
       "<IPython.core.display.Math object>"
      ]
     },
     "metadata": {},
     "output_type": "display_data"
    },
    {
     "data": {
      "text/latex": [
       "$\\displaystyle g \\approx  3 - \\sqrt  3 -  0  .   9  1  7  7 f _ {  0 } ^ {  2 } \\;  . $"
      ],
      "text/plain": [
       "<IPython.core.display.Math object>"
      ]
     },
     "metadata": {},
     "output_type": "display_data"
    }
   ],
   "source": [
    "from IPython.display import display, Math, Latex\n",
    "display(Math(rf'{sample.formulas}'))\n",
    "display(Math(rf'{formulas.loc[234].formulas}'))\n",
    "display(Math('g \\\\approx 3 - \\\\sqrt 3 - 0 . 9 1 7 7 f _ { 0 } ^ { 2 } \\\\; .'))\n",
    "display(Math('g \\\\approx  3 - \\\\sqrt  3 -  0  .   9  1  7  7 f _ {  0 } ^ {  2 } \\\\;  . '))\n"
   ]
  },
  {
   "cell_type": "code",
   "execution_count": 7,
   "metadata": {},
   "outputs": [
    {
     "data": {
      "text/plain": [
       "'g \\\\approx 3 - \\\\sqrt 3 - 0 . 9 1 7 7 f _ { 0 } ^ { 2 } \\\\; .'"
      ]
     },
     "execution_count": 7,
     "metadata": {},
     "output_type": "execute_result"
    }
   ],
   "source": [
    "formulas.loc[234].formulas"
   ]
  },
  {
   "cell_type": "code",
   "execution_count": 8,
   "metadata": {},
   "outputs": [
    {
     "data": {
      "text/plain": [
       "(102863, 1)"
      ]
     },
     "execution_count": 8,
     "metadata": {},
     "output_type": "execute_result"
    }
   ],
   "source": [
    "formulas.shape"
   ]
  },
  {
   "cell_type": "code",
   "execution_count": 9,
   "metadata": {},
   "outputs": [],
   "source": [
    "formulas = pd.DataFrame(formulas)"
   ]
  },
  {
   "cell_type": "code",
   "execution_count": 10,
   "metadata": {},
   "outputs": [
    {
     "data": {
      "text/html": [
       "<div>\n",
       "<style scoped>\n",
       "    .dataframe tbody tr th:only-of-type {\n",
       "        vertical-align: middle;\n",
       "    }\n",
       "\n",
       "    .dataframe tbody tr th {\n",
       "        vertical-align: top;\n",
       "    }\n",
       "\n",
       "    .dataframe thead th {\n",
       "        text-align: right;\n",
       "    }\n",
       "</style>\n",
       "<table border=\"1\" class=\"dataframe\">\n",
       "  <thead>\n",
       "    <tr style=\"text-align: right;\">\n",
       "      <th></th>\n",
       "      <th>formulas</th>\n",
       "    </tr>\n",
       "  </thead>\n",
       "  <tbody>\n",
       "    <tr>\n",
       "      <th>0</th>\n",
       "      <td>\\int _ { - \\epsilon } ^ { \\infty } d l \\: \\mat...</td>\n",
       "    </tr>\n",
       "    <tr>\n",
       "      <th>1</th>\n",
       "      <td>d s ^ { 2 } = ( 1 - { \\frac { q c o s \\theta }...</td>\n",
       "    </tr>\n",
       "    <tr>\n",
       "      <th>2</th>\n",
       "      <td>\\widetilde \\gamma _ { \\mathrm { h o p f } } \\s...</td>\n",
       "    </tr>\n",
       "    <tr>\n",
       "      <th>3</th>\n",
       "      <td>( { \\cal L } _ { a } g ) _ { i j } = 0 , \\ \\ \\...</td>\n",
       "    </tr>\n",
       "    <tr>\n",
       "      <th>4</th>\n",
       "      <td>S _ { s t a t } = 2 \\pi \\sqrt { N _ { 5 } ^ { ...</td>\n",
       "    </tr>\n",
       "  </tbody>\n",
       "</table>\n",
       "</div>"
      ],
      "text/plain": [
       "                                            formulas\n",
       "0  \\int _ { - \\epsilon } ^ { \\infty } d l \\: \\mat...\n",
       "1  d s ^ { 2 } = ( 1 - { \\frac { q c o s \\theta }...\n",
       "2  \\widetilde \\gamma _ { \\mathrm { h o p f } } \\s...\n",
       "3  ( { \\cal L } _ { a } g ) _ { i j } = 0 , \\ \\ \\...\n",
       "4  S _ { s t a t } = 2 \\pi \\sqrt { N _ { 5 } ^ { ..."
      ]
     },
     "execution_count": 10,
     "metadata": {},
     "output_type": "execute_result"
    }
   ],
   "source": [
    "formulas.head()"
   ]
  },
  {
   "cell_type": "code",
   "execution_count": 11,
   "metadata": {},
   "outputs": [
    {
     "data": {
      "text/plain": [
       "'encode 2  5 decode'"
      ]
     },
     "execution_count": 11,
     "metadata": {},
     "output_type": "execute_result"
    }
   ],
   "source": [
    "re.sub('(\\d)', r' \\1 ', \"encode25decode\")"
   ]
  },
  {
   "cell_type": "code",
   "execution_count": 12,
   "metadata": {},
   "outputs": [
    {
     "data": {
      "text/plain": [
       "'g \\\\approx 3 - \\\\sqrt 3 - 0 . 9 1 7 7 f _ { 0 } ^ { 2 } \\\\; .'"
      ]
     },
     "execution_count": 12,
     "metadata": {},
     "output_type": "execute_result"
    }
   ],
   "source": [
    "formulas.loc[234, \"formulas\"]"
   ]
  },
  {
   "cell_type": "code",
   "execution_count": 13,
   "metadata": {},
   "outputs": [],
   "source": [
    "formulas[\"formulas\"] = formulas[\"formulas\"].apply(lambda x: x.replace(\".\", \" . \"))\n",
    "formulas[\"formulas\"] = formulas[\"formulas\"].apply(lambda x: re.sub(\"(\\d)\", r\" \\1\", x))"
   ]
  },
  {
   "cell_type": "code",
   "execution_count": 14,
   "metadata": {},
   "outputs": [
    {
     "data": {
      "text/plain": [
       "'g \\\\approx  3 - \\\\sqrt  3 -  0  .   9  1  7  7 f _ {  0 } ^ {  2 } \\\\;  . '"
      ]
     },
     "execution_count": 14,
     "metadata": {},
     "output_type": "execute_result"
    }
   ],
   "source": [
    "formulas.loc[234, \"formulas\"]"
   ]
  },
  {
   "cell_type": "code",
   "execution_count": 15,
   "metadata": {},
   "outputs": [],
   "source": [
    "formulas[\"formula_tokenized\"] = formulas[\"formulas\"].apply(lambda x: x.strip().split())"
   ]
  },
  {
   "cell_type": "code",
   "execution_count": 16,
   "metadata": {},
   "outputs": [
    {
     "data": {
      "text/plain": [
       "['g',\n",
       " '\\\\approx',\n",
       " '3',\n",
       " '-',\n",
       " '\\\\sqrt',\n",
       " '3',\n",
       " '-',\n",
       " '0',\n",
       " '.',\n",
       " '9',\n",
       " '1',\n",
       " '7',\n",
       " '7',\n",
       " 'f',\n",
       " '_',\n",
       " '{',\n",
       " '0',\n",
       " '}',\n",
       " '^',\n",
       " '{',\n",
       " '2',\n",
       " '}',\n",
       " '\\\\;',\n",
       " '.']"
      ]
     },
     "execution_count": 16,
     "metadata": {},
     "output_type": "execute_result"
    }
   ],
   "source": [
    "formulas.loc[234, \"formula_tokenized\"]"
   ]
  },
  {
   "cell_type": "code",
   "execution_count": 17,
   "metadata": {},
   "outputs": [],
   "source": [
    "formulas[\"formula_len\"] = formulas[\"formula_tokenized\"].apply(lambda x: len(x))"
   ]
  },
  {
   "cell_type": "code",
   "execution_count": 18,
   "metadata": {},
   "outputs": [
    {
     "data": {
      "text/plain": [
       "count    102863.000000\n",
       "mean         65.601509\n",
       "std          42.956291\n",
       "min           1.000000\n",
       "25%          38.000000\n",
       "50%          55.000000\n",
       "75%          82.000000\n",
       "max        1051.000000\n",
       "Name: formula_len, dtype: float64"
      ]
     },
     "execution_count": 18,
     "metadata": {},
     "output_type": "execute_result"
    }
   ],
   "source": [
    "formulas.formula_len.describe()"
   ]
  },
  {
   "cell_type": "code",
   "execution_count": 19,
   "metadata": {},
   "outputs": [
    {
     "data": {
      "text/plain": [
       "415.1380000000063"
      ]
     },
     "execution_count": 19,
     "metadata": {},
     "output_type": "execute_result"
    }
   ],
   "source": [
    "np.quantile(formulas.formula_len, q=.999)"
   ]
  },
  {
   "cell_type": "markdown",
   "metadata": {},
   "source": [
    "[TODO] Set max_len to 512"
   ]
  },
  {
   "cell_type": "code",
   "execution_count": 20,
   "metadata": {},
   "outputs": [],
   "source": [
    "from sklearn.feature_extraction.text import CountVectorizer"
   ]
  },
  {
   "cell_type": "code",
   "execution_count": 21,
   "metadata": {},
   "outputs": [
    {
     "data": {
      "text/plain": [
       "371"
      ]
     },
     "execution_count": 21,
     "metadata": {},
     "output_type": "execute_result"
    }
   ],
   "source": [
    "vectorizer = CountVectorizer()\n",
    "vectorizer.fit_transform(formulas[\"formulas\"])\n",
    "len(vectorizer.get_feature_names_out())"
   ]
  },
  {
   "cell_type": "code",
   "execution_count": 22,
   "metadata": {},
   "outputs": [
    {
     "data": {
      "text/plain": [
       "array(['aa', 'acute', 'ae', 'aleph', 'alpha', 'amalg', 'approx', 'array',\n",
       "       'arraycolsep', 'arraystretch', 'arrowvert', 'ast', 'asymp', 'atop',\n",
       "       'atopwithdelims', 'backslash', 'bar', 'begin', 'beta', 'bf', 'big',\n",
       "       'bigcap', 'bigcirc', 'bigcup', 'bigg', 'biggl', 'biggm', 'biggr',\n",
       "       'bigl', 'bigm', 'bigoplus', 'bigotimes', 'bigr', 'bigskip',\n",
       "       'bigsqcup', 'bigtriangledown', 'bigtriangleup', 'bigvee',\n",
       "       'bigwedge', 'binom', 'bmod', 'boldmath', 'bot', 'brace', 'brack',\n",
       "       'breve', 'buildrel', 'bullet', 'cal', 'cap', 'cdot', 'cdotp',\n",
       "       'cdots', 'check', 'chi', 'circ', 'circle', 'cite', 'cline', 'cm',\n",
       "       'colon', 'cong', 'coprod', 'crcr', 'cup', 'dag', 'dagger', 'ddag',\n",
       "       'ddagger', 'ddot', 'ddots', 'def', 'delta', 'diamond',\n",
       "       'diamondsuit', 'displaystyle', 'do', 'dot', 'doteq', 'dotfill',\n",
       "       'dots', 'downarrow', 'ell', 'em', 'emph', 'emptyset', 'end',\n",
       "       'enskip', 'enspace', 'ensuremath', 'epsilon', 'equiv', 'eta',\n",
       "       'everymath', 'exists', 'expandafter', 'fbox', 'fboxsep', 'fill',\n",
       "       'flat', 'footnote', 'footnotemark', 'footnotesize', 'forall',\n",
       "       'frac', 'framebox', 'gamma', 'ge', 'geq', 'gg', 'grave', 'hat',\n",
       "       'hbar', 'hfil', 'hfill', 'hline', 'hookrightarrow', 'hphantom',\n",
       "       'hrule', 'hskip', 'hspace', 'hss', 'huge', 'im', 'imath', 'in',\n",
       "       'infty', 'int', 'iota', 'it', 'itshape', 'jmath', 'kappa', 'kern',\n",
       "       'label', 'lambda', 'land', 'langle', 'large', 'lbrace', 'lbrack',\n",
       "       'lceil', 'ldots', 'le', 'leavevmode', 'left', 'leftarrow',\n",
       "       'lefteqn', 'leftrightarrow', 'leq', 'lfloor', 'lgroup', 'line',\n",
       "       'linethickness', 'll', 'llap', 'longleftarrow',\n",
       "       'longleftrightarrow', 'longmapsto', 'longrightarrow', 'lower',\n",
       "       'lq', 'makebox', 'mapsto', 'mathaccent', 'mathbf', 'mathbin',\n",
       "       'mathcal', 'mathclose', 'mathit', 'mathnormal', 'mathop',\n",
       "       'mathopen', 'mathord', 'mathrel', 'mathrm', 'mathsf', 'mathstrut',\n",
       "       'mathtt', 'mathversion', 'medskip', 'mid', 'mit', 'mkern', 'mm',\n",
       "       'mp', 'mskip', 'mu', 'multicolumn', 'multiput', 'nabla', 'natural',\n",
       "       'ne', 'nearrow', 'neq', 'newcommand', 'ni', 'noalign',\n",
       "       'nolinebreak', 'nonumber', 'normalsize', 'not', 'notin', 'nu',\n",
       "       'null', 'nulldelimiterspace', 'object', 'odot', 'of', 'oint',\n",
       "       'ointop', 'omega', 'ominus', 'ooalign', 'operatorname', 'oplus',\n",
       "       'oslash', 'otimes', 'oval', 'overbrace', 'overleftarrow',\n",
       "       'overline', 'overrightarrow', 'overwithdelims', 'parallel',\n",
       "       'parbox', 'partial', 'perp', 'phantom', 'phi', 'pi', 'pm', 'pmod',\n",
       "       'pounds', 'prec', 'preceq', 'prime', 'prod', 'propto', 'protect',\n",
       "       'protecte', 'protectm', 'protectu', 'protectz', 'psi', 'pt', 'put',\n",
       "       'qbezier', 'qquad', 'quad', 'raise', 'raisebox', 'rangle',\n",
       "       'rbrace', 'rbrack', 'rceil', 're', 'ref', 'relax', 'renewcommand',\n",
       "       'rfloor', 'rgroup', 'rho', 'right', 'rightarrow', 'rightarrowfill',\n",
       "       'rightharpoonup', 'rightleftharpoons', 'rlap', 'romannumeral',\n",
       "       'root', 'sb', 'sc', 'scriptscriptstyle', 'scriptsize',\n",
       "       'scriptstyle', 'scshape', 'searrow', 'setcounter', 'setlength',\n",
       "       'setminus', 'sf', 'sharp', 'sigma', 'sim', 'simeq', 'skew', 'sl',\n",
       "       'slash', 'small', 'smallint', 'smallskip', 'smash', 'smile', 'sp',\n",
       "       'space', 'special', 'sqcap', 'sqcup', 'sqrt', 'ss', 'stackrel',\n",
       "       'star', 'strut', 'subset', 'subseteq', 'succ', 'succeq', 'sum',\n",
       "       'supset', 'supseteq', 'surd', 'swarrow', 'symbol', 'tabcolsep',\n",
       "       'tau', 'textbf', 'textcircled', 'textit', 'textnormal', 'textrm',\n",
       "       'textsf', 'textstyle', 'texttt', 'textup', 'theta', 'thicklines',\n",
       "       'thinspace', 'tilde', 'times', 'tiny', 'to', 'top', 'triangle',\n",
       "       'triangleleft', 'triangleright', 'tt', 'ule', 'unboldmath',\n",
       "       'underbrace', 'underline', 'unitlength', 'uparrow', 'uppercase',\n",
       "       'upsilon', 'varepsilon', 'varphi', 'varpi', 'varrho', 'varsigma',\n",
       "       'vartheta', 'vcenter', 'vdash', 'vdots', 'vec', 'vector', 'vee',\n",
       "       'verb', 'vert', 'vline', 'vphantom', 'vrule', 'vskip', 'vspace',\n",
       "       'vss', 'wedge', 'widehat', 'widetilde', 'wp', 'xi', 'zeta'],\n",
       "      dtype=object)"
      ]
     },
     "execution_count": 22,
     "metadata": {},
     "output_type": "execute_result"
    }
   ],
   "source": [
    "vectorizer.get_feature_names_out()"
   ]
  },
  {
   "cell_type": "code",
   "execution_count": 23,
   "metadata": {},
   "outputs": [
    {
     "data": {
      "text/plain": [
       "102863"
      ]
     },
     "execution_count": 23,
     "metadata": {},
     "output_type": "execute_result"
    }
   ],
   "source": [
    "words = formulas[\"formula_tokenized\"].tolist()\n",
    "len(words)"
   ]
  },
  {
   "cell_type": "code",
   "execution_count": 81,
   "metadata": {},
   "outputs": [],
   "source": [
    "from collections import Counter\n",
    "\n",
    "vocab = Counter([x for sublist in words for x in sublist])"
   ]
  },
  {
   "cell_type": "code",
   "execution_count": 82,
   "metadata": {},
   "outputs": [
    {
     "data": {
      "text/plain": [
       "562"
      ]
     },
     "execution_count": 82,
     "metadata": {},
     "output_type": "execute_result"
    }
   ],
   "source": [
    "len(vocab)"
   ]
  },
  {
   "cell_type": "code",
   "execution_count": 83,
   "metadata": {},
   "outputs": [
    {
     "data": {
      "text/plain": [
       "531"
      ]
     },
     "execution_count": 83,
     "metadata": {},
     "output_type": "execute_result"
    }
   ],
   "source": [
    "vocab = sorted(list(vocab.keys()))\n",
    "vocab = [\"<UNK>\", \"<SOS>\", \"<PAD>\", \"<EOS>\"] + vocab\n",
    "vocab = {k: i for i, k in enumerate(vocab)}\n",
    "vocab['a']"
   ]
  },
  {
   "cell_type": "code",
   "execution_count": 84,
   "metadata": {},
   "outputs": [],
   "source": [
    "import json"
   ]
  },
  {
   "cell_type": "code",
   "execution_count": 85,
   "metadata": {},
   "outputs": [],
   "source": [
    "with open(\"../data/interim/token2id.json\", \"w\") as f:\n",
    "    json.dump(vocab, f)"
   ]
  },
  {
   "cell_type": "code",
   "execution_count": 86,
   "metadata": {},
   "outputs": [],
   "source": [
    "inverse_vocab = {v: k for k, v in vocab.items()}"
   ]
  },
  {
   "cell_type": "code",
   "execution_count": 87,
   "metadata": {},
   "outputs": [],
   "source": [
    "with open(\"../data/interim/id2token.json\", \"w\") as f:\n",
    "    json.dump(inverse_vocab, f)"
   ]
  },
  {
   "cell_type": "code",
   "execution_count": 7,
   "metadata": {},
   "outputs": [
    {
     "data": {
      "text/html": [
       "<div>\n",
       "<style scoped>\n",
       "    .dataframe tbody tr th:only-of-type {\n",
       "        vertical-align: middle;\n",
       "    }\n",
       "\n",
       "    .dataframe tbody tr th {\n",
       "        vertical-align: top;\n",
       "    }\n",
       "\n",
       "    .dataframe thead th {\n",
       "        text-align: right;\n",
       "    }\n",
       "</style>\n",
       "<table border=\"1\" class=\"dataframe\">\n",
       "  <thead>\n",
       "    <tr style=\"text-align: right;\">\n",
       "      <th></th>\n",
       "      <th>Unnamed: 0</th>\n",
       "      <th>formula</th>\n",
       "      <th>tokenized_formula</th>\n",
       "    </tr>\n",
       "  </thead>\n",
       "  <tbody>\n",
       "    <tr>\n",
       "      <th>0</th>\n",
       "      <td>0</td>\n",
       "      <td>['V ^ { \\\\prime } = \\\\frac { 1 } { \\\\Lambda ^ ...</td>\n",
       "      <td>[[1, 58, 528, 562, 376, 564, 32, 225, 562, 20,...</td>\n",
       "    </tr>\n",
       "    <tr>\n",
       "      <th>1</th>\n",
       "      <td>1</td>\n",
       "      <td>['s = - \\\\sum _ { i = 1 } ^ { N } \\\\frac { \\\\a...</td>\n",
       "      <td>[[1, 553, 32, 14, 462, 529, 562, 540, 32, 20, ...</td>\n",
       "    </tr>\n",
       "    <tr>\n",
       "      <th>2</th>\n",
       "      <td>2</td>\n",
       "      <td>['\\\\kappa = \\\\sqrt { \\\\frac { 2 \\\\sigma w _ { ...</td>\n",
       "      <td>[[1, 254, 32, 453, 562, 225, 562, 21, 437, 558...</td>\n",
       "    </tr>\n",
       "    <tr>\n",
       "      <th>3</th>\n",
       "      <td>3</td>\n",
       "      <td>['u ( t , x ) = ( - 2 \\\\nu ) \\\\left[ k _ { 1 }...</td>\n",
       "      <td>[[1, 555, 9, 554, 13, 559, 10, 32, 9, 14, 21, ...</td>\n",
       "    </tr>\n",
       "    <tr>\n",
       "      <th>4</th>\n",
       "      <td>4</td>\n",
       "      <td>['W = \\\\frac { M } { 2 } \\\\Phi ^ { 2 } + \\\\til...</td>\n",
       "      <td>[[1, 59, 32, 225, 562, 48, 564, 562, 21, 564, ...</td>\n",
       "    </tr>\n",
       "  </tbody>\n",
       "</table>\n",
       "</div>"
      ],
      "text/plain": [
       "   Unnamed: 0                                            formula  \\\n",
       "0           0  ['V ^ { \\\\prime } = \\\\frac { 1 } { \\\\Lambda ^ ...   \n",
       "1           1  ['s = - \\\\sum _ { i = 1 } ^ { N } \\\\frac { \\\\a...   \n",
       "2           2  ['\\\\kappa = \\\\sqrt { \\\\frac { 2 \\\\sigma w _ { ...   \n",
       "3           3  ['u ( t , x ) = ( - 2 \\\\nu ) \\\\left[ k _ { 1 }...   \n",
       "4           4  ['W = \\\\frac { M } { 2 } \\\\Phi ^ { 2 } + \\\\til...   \n",
       "\n",
       "                                   tokenized_formula  \n",
       "0  [[1, 58, 528, 562, 376, 564, 32, 225, 562, 20,...  \n",
       "1  [[1, 553, 32, 14, 462, 529, 562, 540, 32, 20, ...  \n",
       "2  [[1, 254, 32, 453, 562, 225, 562, 21, 437, 558...  \n",
       "3  [[1, 555, 9, 554, 13, 559, 10, 32, 9, 14, 21, ...  \n",
       "4  [[1, 59, 32, 225, 562, 48, 564, 562, 21, 564, ...  "
      ]
     },
     "execution_count": 7,
     "metadata": {},
     "output_type": "execute_result"
    }
   ],
   "source": [
    "pd.read_csv(\"../data/interim/tokens.test.csv\").head()"
   ]
  },
  {
   "cell_type": "code",
   "execution_count": null,
   "metadata": {},
   "outputs": [],
   "source": []
  }
 ],
 "metadata": {
  "kernelspec": {
   "display_name": "venv",
   "language": "python",
   "name": "python3"
  },
  "language_info": {
   "codemirror_mode": {
    "name": "ipython",
    "version": 3
   },
   "file_extension": ".py",
   "mimetype": "text/x-python",
   "name": "python",
   "nbconvert_exporter": "python",
   "pygments_lexer": "ipython3",
   "version": "3.9.13"
  }
 },
 "nbformat": 4,
 "nbformat_minor": 2
}
