{
 "cells": [
  {
   "cell_type": "code",
   "execution_count": 60,
   "metadata": {},
   "outputs": [],
   "source": [
    "import os\n",
    "import pandas as pd\n",
    "import numpy as np\n",
    "import matplotlib.pyplot as plt\n",
    "import re"
   ]
  },
  {
   "cell_type": "code",
   "execution_count": 61,
   "metadata": {},
   "outputs": [
    {
     "data": {
      "text/html": [
       "<div>\n",
       "<style scoped>\n",
       "    .dataframe tbody tr th:only-of-type {\n",
       "        vertical-align: middle;\n",
       "    }\n",
       "\n",
       "    .dataframe tbody tr th {\n",
       "        vertical-align: top;\n",
       "    }\n",
       "\n",
       "    .dataframe thead th {\n",
       "        text-align: right;\n",
       "    }\n",
       "</style>\n",
       "<table border=\"1\" class=\"dataframe\">\n",
       "  <thead>\n",
       "    <tr style=\"text-align: right;\">\n",
       "      <th></th>\n",
       "      <th>formulas</th>\n",
       "    </tr>\n",
       "  </thead>\n",
       "  <tbody>\n",
       "    <tr>\n",
       "      <th>0</th>\n",
       "      <td>\\int _ { - \\epsilon } ^ { \\infty } d l \\: \\mat...</td>\n",
       "    </tr>\n",
       "    <tr>\n",
       "      <th>1</th>\n",
       "      <td>d s ^ { 2 } = ( 1 - { \\frac { q c o s \\theta }...</td>\n",
       "    </tr>\n",
       "    <tr>\n",
       "      <th>2</th>\n",
       "      <td>\\widetilde \\gamma _ { \\mathrm { h o p f } } \\s...</td>\n",
       "    </tr>\n",
       "    <tr>\n",
       "      <th>3</th>\n",
       "      <td>( { \\cal L } _ { a } g ) _ { i j } = 0 , \\ \\ \\...</td>\n",
       "    </tr>\n",
       "    <tr>\n",
       "      <th>4</th>\n",
       "      <td>S _ { s t a t } = 2 \\pi \\sqrt { N _ { 5 } ^ { ...</td>\n",
       "    </tr>\n",
       "  </tbody>\n",
       "</table>\n",
       "</div>"
      ],
      "text/plain": [
       "                                            formulas\n",
       "0  \\int _ { - \\epsilon } ^ { \\infty } d l \\: \\mat...\n",
       "1  d s ^ { 2 } = ( 1 - { \\frac { q c o s \\theta }...\n",
       "2  \\widetilde \\gamma _ { \\mathrm { h o p f } } \\s...\n",
       "3  ( { \\cal L } _ { a } g ) _ { i j } = 0 , \\ \\ \\...\n",
       "4  S _ { s t a t } = 2 \\pi \\sqrt { N _ { 5 } ^ { ..."
      ]
     },
     "execution_count": 61,
     "metadata": {},
     "output_type": "execute_result"
    }
   ],
   "source": [
    "formulas = pd.read_csv(\"../data/raw/im2latex_formulas.norm.csv\")\n",
    "formulas.head()"
   ]
  },
  {
   "cell_type": "code",
   "execution_count": 62,
   "metadata": {},
   "outputs": [],
   "source": [
    "sample = formulas.iloc[8332]"
   ]
  },
  {
   "cell_type": "code",
   "execution_count": 63,
   "metadata": {},
   "outputs": [
    {
     "name": "stdout",
     "output_type": "stream",
     "text": [
      "\\langle f _ { \\lambda } f _ { \\lambda ^ { \\prime } } \\rangle \\propto \\int d ^ { 2 } x \\sqrt { - g } e ^ { - 2 \\phi } f _ { \\lambda } f _ { \\lambda ^ { \\prime } } = \\delta _ { \\lambda , \\lambda ^ { \\prime } } \\quad .\n"
     ]
    }
   ],
   "source": [
    "print(sample.formulas)\n",
    "# print(sample.image)"
   ]
  },
  {
   "cell_type": "code",
   "execution_count": 90,
   "metadata": {},
   "outputs": [
    {
     "data": {
      "text/latex": [
       "$\\displaystyle \\langle f _ { \\lambda } f _ { \\lambda ^ { \\prime } } \\rangle \\propto \\int d ^ { 2 } x \\sqrt { - g } e ^ { - 2 \\phi } f _ { \\lambda } f _ { \\lambda ^ { \\prime } } = \\delta _ { \\lambda , \\lambda ^ { \\prime } } \\quad .$"
      ],
      "text/plain": [
       "<IPython.core.display.Math object>"
      ]
     },
     "metadata": {},
     "output_type": "display_data"
    },
    {
     "data": {
      "text/latex": [
       "$\\displaystyle g \\approx  3 - \\sqrt  3 -  0  .   9  1  7  7 f _ {  0 } ^ {  2 } \\;  . $"
      ],
      "text/plain": [
       "<IPython.core.display.Math object>"
      ]
     },
     "metadata": {},
     "output_type": "display_data"
    },
    {
     "data": {
      "text/latex": [
       "$\\displaystyle g \\approx 3 - \\sqrt 3 - 0 . 9 1 7 7 f _ { 0 } ^ { 2 } \\; .$"
      ],
      "text/plain": [
       "<IPython.core.display.Math object>"
      ]
     },
     "metadata": {},
     "output_type": "display_data"
    },
    {
     "data": {
      "text/latex": [
       "$\\displaystyle g \\approx  3 - \\sqrt  3 -  0  .   9  1  7  7 f _ {  0 } ^ {  2 } \\;  . $"
      ],
      "text/plain": [
       "<IPython.core.display.Math object>"
      ]
     },
     "metadata": {},
     "output_type": "display_data"
    }
   ],
   "source": [
    "from IPython.display import display, Math, Latex\n",
    "display(Math(rf'{sample.formulas}'))\n",
    "display(Math(rf'{formulas.loc[234].formulas}'))\n",
    "display(Math('g \\\\approx 3 - \\\\sqrt 3 - 0 . 9 1 7 7 f _ { 0 } ^ { 2 } \\\\; .'))\n",
    "display(Math('g \\\\approx  3 - \\\\sqrt  3 -  0  .   9  1  7  7 f _ {  0 } ^ {  2 } \\\\;  . '))\n"
   ]
  },
  {
   "cell_type": "code",
   "execution_count": 65,
   "metadata": {},
   "outputs": [
    {
     "data": {
      "text/plain": [
       "'g \\\\approx 3 - \\\\sqrt 3 - 0 . 9 1 7 7 f _ { 0 } ^ { 2 } \\\\; .'"
      ]
     },
     "execution_count": 65,
     "metadata": {},
     "output_type": "execute_result"
    }
   ],
   "source": [
    "formulas.loc[234].formulas"
   ]
  },
  {
   "cell_type": "code",
   "execution_count": 66,
   "metadata": {},
   "outputs": [
    {
     "data": {
      "text/plain": [
       "(102863, 1)"
      ]
     },
     "execution_count": 66,
     "metadata": {},
     "output_type": "execute_result"
    }
   ],
   "source": [
    "formulas.shape"
   ]
  },
  {
   "cell_type": "code",
   "execution_count": 67,
   "metadata": {},
   "outputs": [],
   "source": [
    "formulas = pd.DataFrame(formulas)"
   ]
  },
  {
   "cell_type": "code",
   "execution_count": 68,
   "metadata": {},
   "outputs": [
    {
     "data": {
      "text/html": [
       "<div>\n",
       "<style scoped>\n",
       "    .dataframe tbody tr th:only-of-type {\n",
       "        vertical-align: middle;\n",
       "    }\n",
       "\n",
       "    .dataframe tbody tr th {\n",
       "        vertical-align: top;\n",
       "    }\n",
       "\n",
       "    .dataframe thead th {\n",
       "        text-align: right;\n",
       "    }\n",
       "</style>\n",
       "<table border=\"1\" class=\"dataframe\">\n",
       "  <thead>\n",
       "    <tr style=\"text-align: right;\">\n",
       "      <th></th>\n",
       "      <th>formulas</th>\n",
       "    </tr>\n",
       "  </thead>\n",
       "  <tbody>\n",
       "    <tr>\n",
       "      <th>0</th>\n",
       "      <td>\\int _ { - \\epsilon } ^ { \\infty } d l \\: \\mat...</td>\n",
       "    </tr>\n",
       "    <tr>\n",
       "      <th>1</th>\n",
       "      <td>d s ^ { 2 } = ( 1 - { \\frac { q c o s \\theta }...</td>\n",
       "    </tr>\n",
       "    <tr>\n",
       "      <th>2</th>\n",
       "      <td>\\widetilde \\gamma _ { \\mathrm { h o p f } } \\s...</td>\n",
       "    </tr>\n",
       "    <tr>\n",
       "      <th>3</th>\n",
       "      <td>( { \\cal L } _ { a } g ) _ { i j } = 0 , \\ \\ \\...</td>\n",
       "    </tr>\n",
       "    <tr>\n",
       "      <th>4</th>\n",
       "      <td>S _ { s t a t } = 2 \\pi \\sqrt { N _ { 5 } ^ { ...</td>\n",
       "    </tr>\n",
       "  </tbody>\n",
       "</table>\n",
       "</div>"
      ],
      "text/plain": [
       "                                            formulas\n",
       "0  \\int _ { - \\epsilon } ^ { \\infty } d l \\: \\mat...\n",
       "1  d s ^ { 2 } = ( 1 - { \\frac { q c o s \\theta }...\n",
       "2  \\widetilde \\gamma _ { \\mathrm { h o p f } } \\s...\n",
       "3  ( { \\cal L } _ { a } g ) _ { i j } = 0 , \\ \\ \\...\n",
       "4  S _ { s t a t } = 2 \\pi \\sqrt { N _ { 5 } ^ { ..."
      ]
     },
     "execution_count": 68,
     "metadata": {},
     "output_type": "execute_result"
    }
   ],
   "source": [
    "formulas.head()"
   ]
  },
  {
   "cell_type": "code",
   "execution_count": 69,
   "metadata": {},
   "outputs": [
    {
     "data": {
      "text/plain": [
       "'encode 2  5 decode'"
      ]
     },
     "execution_count": 69,
     "metadata": {},
     "output_type": "execute_result"
    }
   ],
   "source": [
    "re.sub('(\\d)', r' \\1 ', \"encode25decode\")"
   ]
  },
  {
   "cell_type": "code",
   "execution_count": 70,
   "metadata": {},
   "outputs": [
    {
     "data": {
      "text/plain": [
       "'g \\\\approx 3 - \\\\sqrt 3 - 0 . 9 1 7 7 f _ { 0 } ^ { 2 } \\\\; .'"
      ]
     },
     "execution_count": 70,
     "metadata": {},
     "output_type": "execute_result"
    }
   ],
   "source": [
    "formulas.loc[234, \"formulas\"]"
   ]
  },
  {
   "cell_type": "code",
   "execution_count": 71,
   "metadata": {},
   "outputs": [],
   "source": [
    "formulas[\"formulas\"] = formulas[\"formulas\"].apply(lambda x: x.replace(\".\", \" . \"))\n",
    "formulas[\"formulas\"] = formulas[\"formulas\"].apply(lambda x: re.sub(\"(\\d)\", r\" \\1\", x))"
   ]
  },
  {
   "cell_type": "code",
   "execution_count": 72,
   "metadata": {},
   "outputs": [
    {
     "data": {
      "text/plain": [
       "'g \\\\approx  3 - \\\\sqrt  3 -  0  .   9  1  7  7 f _ {  0 } ^ {  2 } \\\\;  . '"
      ]
     },
     "execution_count": 72,
     "metadata": {},
     "output_type": "execute_result"
    }
   ],
   "source": [
    "formulas.loc[234, \"formulas\"]"
   ]
  },
  {
   "cell_type": "code",
   "execution_count": 73,
   "metadata": {},
   "outputs": [],
   "source": [
    "formulas[\"formula_tokenized\"] = formulas[\"formulas\"].apply(lambda x: x.strip().split())"
   ]
  },
  {
   "cell_type": "code",
   "execution_count": 74,
   "metadata": {},
   "outputs": [
    {
     "data": {
      "text/plain": [
       "['g',\n",
       " '\\\\approx',\n",
       " '3',\n",
       " '-',\n",
       " '\\\\sqrt',\n",
       " '3',\n",
       " '-',\n",
       " '0',\n",
       " '.',\n",
       " '9',\n",
       " '1',\n",
       " '7',\n",
       " '7',\n",
       " 'f',\n",
       " '_',\n",
       " '{',\n",
       " '0',\n",
       " '}',\n",
       " '^',\n",
       " '{',\n",
       " '2',\n",
       " '}',\n",
       " '\\\\;',\n",
       " '.']"
      ]
     },
     "execution_count": 74,
     "metadata": {},
     "output_type": "execute_result"
    }
   ],
   "source": [
    "formulas.loc[234, \"formula_tokenized\"]"
   ]
  },
  {
   "cell_type": "code",
   "execution_count": 75,
   "metadata": {},
   "outputs": [],
   "source": [
    "formulas[\"formula_len\"] = formulas[\"formula_tokenized\"].apply(lambda x: len(x))"
   ]
  },
  {
   "cell_type": "code",
   "execution_count": 76,
   "metadata": {},
   "outputs": [
    {
     "data": {
      "text/plain": [
       "count    102863.000000\n",
       "mean         65.601509\n",
       "std          42.956291\n",
       "min           1.000000\n",
       "25%          38.000000\n",
       "50%          55.000000\n",
       "75%          82.000000\n",
       "max        1051.000000\n",
       "Name: formula_len, dtype: float64"
      ]
     },
     "execution_count": 76,
     "metadata": {},
     "output_type": "execute_result"
    }
   ],
   "source": [
    "formulas.formula_len.describe()"
   ]
  },
  {
   "cell_type": "code",
   "execution_count": 77,
   "metadata": {},
   "outputs": [
    {
     "data": {
      "text/plain": [
       "415.1380000000063"
      ]
     },
     "execution_count": 77,
     "metadata": {},
     "output_type": "execute_result"
    }
   ],
   "source": [
    "np.quantile(formulas.formula_len, q=.999)"
   ]
  },
  {
   "cell_type": "markdown",
   "metadata": {},
   "source": [
    "[TODO] Set max_len to 512"
   ]
  },
  {
   "cell_type": "code",
   "execution_count": 78,
   "metadata": {},
   "outputs": [],
   "source": [
    "from sklearn.feature_extraction.text import CountVectorizer"
   ]
  },
  {
   "cell_type": "code",
   "execution_count": 79,
   "metadata": {},
   "outputs": [
    {
     "data": {
      "text/plain": [
       "371"
      ]
     },
     "execution_count": 79,
     "metadata": {},
     "output_type": "execute_result"
    }
   ],
   "source": [
    "vectorizer = CountVectorizer()\n",
    "vectorizer.fit_transform(formulas[\"formulas\"])\n",
    "len(vectorizer.get_feature_names_out())"
   ]
  },
  {
   "cell_type": "code",
   "execution_count": 80,
   "metadata": {},
   "outputs": [
    {
     "data": {
      "text/plain": [
       "102863"
      ]
     },
     "execution_count": 80,
     "metadata": {},
     "output_type": "execute_result"
    }
   ],
   "source": [
    "words = formulas[\"formula_tokenized\"].tolist()\n",
    "len(words)"
   ]
  },
  {
   "cell_type": "code",
   "execution_count": 81,
   "metadata": {},
   "outputs": [],
   "source": [
    "from collections import Counter\n",
    "\n",
    "vocab = Counter([x for sublist in words for x in sublist])"
   ]
  },
  {
   "cell_type": "code",
   "execution_count": 82,
   "metadata": {},
   "outputs": [
    {
     "data": {
      "text/plain": [
       "562"
      ]
     },
     "execution_count": 82,
     "metadata": {},
     "output_type": "execute_result"
    }
   ],
   "source": [
    "len(vocab)"
   ]
  },
  {
   "cell_type": "code",
   "execution_count": 83,
   "metadata": {},
   "outputs": [
    {
     "data": {
      "text/plain": [
       "531"
      ]
     },
     "execution_count": 83,
     "metadata": {},
     "output_type": "execute_result"
    }
   ],
   "source": [
    "vocab = sorted(list(vocab.keys()))\n",
    "vocab = [\"<UNK>\", \"<SOS>\", \"<PAD>\", \"<EOS>\"] + vocab\n",
    "vocab = {k: i for i, k in enumerate(vocab)}\n",
    "vocab['a']"
   ]
  },
  {
   "cell_type": "code",
   "execution_count": 84,
   "metadata": {},
   "outputs": [],
   "source": [
    "import json"
   ]
  },
  {
   "cell_type": "code",
   "execution_count": 85,
   "metadata": {},
   "outputs": [],
   "source": [
    "with open(\"../data/interim/token2id.json\", \"w\") as f:\n",
    "    json.dump(vocab, f)"
   ]
  },
  {
   "cell_type": "code",
   "execution_count": 86,
   "metadata": {},
   "outputs": [],
   "source": [
    "inverse_vocab = {v: k for k, v in vocab.items()}"
   ]
  },
  {
   "cell_type": "code",
   "execution_count": 87,
   "metadata": {},
   "outputs": [],
   "source": [
    "with open(\"../data/interim/id2token.json\", \"w\") as f:\n",
    "    json.dump(inverse_vocab, f)"
   ]
  },
  {
   "cell_type": "code",
   "execution_count": null,
   "metadata": {},
   "outputs": [],
   "source": []
  }
 ],
 "metadata": {
  "kernelspec": {
   "display_name": "venv",
   "language": "python",
   "name": "python3"
  },
  "language_info": {
   "codemirror_mode": {
    "name": "ipython",
    "version": 3
   },
   "file_extension": ".py",
   "mimetype": "text/x-python",
   "name": "python",
   "nbconvert_exporter": "python",
   "pygments_lexer": "ipython3",
   "version": "3.9.13"
  }
 },
 "nbformat": 4,
 "nbformat_minor": 2
}
